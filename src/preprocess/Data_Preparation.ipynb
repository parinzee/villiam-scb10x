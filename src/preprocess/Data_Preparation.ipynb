{
  "cells": [
    {
      "cell_type": "markdown",
      "metadata": {
        "id": "NcWPfQq8fd6_"
      },
      "source": [
        "# 🦄 SCB10X - Data Preparation Notebook\n",
        "- Translation script for translting **LLaVA** dataset via https://llava-vl.github.io/\n",
        "- written by Senmee 🍜 @ 18 Nov, 2023"
      ]
    },
    {
      "cell_type": "code",
      "execution_count": 1,
      "metadata": {
        "id": "8_AeWcBYpyUJ"
      },
      "outputs": [],
      "source": [
        "import json\n",
        "import pandas as pd\n",
        "import re\n",
        "import os\n",
        "from glob import glob\n",
        "from tqdm import tqdm"
      ]
    },
    {
      "cell_type": "markdown",
      "metadata": {
        "id": "3cmq2UT3fvfL"
      },
      "source": [
        "## 1. Get data from json\n",
        "**LLaVA** json has format like\n",
        "```\n",
        "[\n",
        "  {\n",
        "    'id': '000000033471',\n",
        "    'image': 'coco/train2017/000000033471.jpg',\n",
        "    'conversations': [\n",
        "      {'from': 'human', 'value': '<image>\\nWhat are the colors of the bus in the image?'},\n",
        "      {'from': 'gpt',   'value': 'The bus in the image is white and red.'},\n",
        "      ...]\n",
        "  },\n",
        "  {...},\n",
        "]\n",
        "```\n",
        "This command session will convert them into dataframe and save as `.xlsx` for translating via google translate web UI\n",
        "\n",
        "🚨 Note that we need to collect \\<image\\> in conversation for setting position of image tag in each sentence"
      ]
    },
    {
      "cell_type": "code",
      "execution_count": 3,
      "metadata": {
        "id": "h_9X5TFLnCCG"
      },
      "outputs": [],
      "source": [
        "# Clean function\n",
        "def clean_text(text):\n",
        "  text = re.sub(r'\\s+', ' ', text)        # Replace multiple white space with single white space\n",
        "  return text"
      ]
    },
    {
      "cell_type": "markdown",
      "metadata": {},
      "source": [
        "### Convert json to Image"
      ]
    },
    {
      "cell_type": "code",
      "execution_count": 4,
      "metadata": {
        "colab": {
          "base_uri": "https://localhost:8080/"
        },
        "id": "v_iCvEMSiLR3",
        "outputId": "262b4d7c-1e43-43c8-fba7-141e2e24bfec"
      },
      "outputs": [
        {
          "data": {
            "text/plain": [
              "(7,\n",
              " ['/content/gdrive/MyDrive/SCB10X/raw_dataset/complex_reasoning_77k.json',\n",
              "  '/content/gdrive/MyDrive/SCB10X/raw_dataset/conversation_58k.json',\n",
              "  '/content/gdrive/MyDrive/SCB10X/raw_dataset/detail_23k.json',\n",
              "  '/content/gdrive/MyDrive/SCB10X/raw_dataset/llava_instruct_80k.json',\n",
              "  '/content/gdrive/MyDrive/SCB10X/raw_dataset/llava_instruct_150k.json',\n",
              "  '/content/gdrive/MyDrive/SCB10X/raw_dataset/llava_v1_5_mix665k.json',\n",
              "  '/content/gdrive/MyDrive/SCB10X/raw_dataset/chat.json'])"
            ]
          },
          "execution_count": 4,
          "metadata": {},
          "output_type": "execute_result"
        }
      ],
      "source": [
        "# Export data\n",
        "RAW_DIR = './raw_data'                               \n",
        "TARGET_DIR = './data'\n",
        "\n",
        "# Get all filename\n",
        "file_list = glob(os.path.join(RAW_DIR, '*'))\n",
        "len(file_list), file_list"
      ]
    },
    {
      "cell_type": "code",
      "execution_count": 8,
      "metadata": {
        "id": "Or6WRTmSv-hV"
      },
      "outputs": [],
      "source": [
        "# Get all data\n",
        "def get_data(json_path):\n",
        "  # Read json\n",
        "  with open(json_path, 'r') as file:\n",
        "    data = json.load(file)\n",
        "  name = json_path.split('/')[-1].split('.')[0]\n",
        "  # Collect data\n",
        "  datas = []\n",
        "  for row in tqdm(data):\n",
        "    id = row['id']\n",
        "    if 'image' in row.keys():\n",
        "      image = row['image']\n",
        "      count = 0\n",
        "      for value in row['conversations']:\n",
        "        data_dict = {\n",
        "            'id': id,\n",
        "            'image': image,\n",
        "            'from': value['from'],\n",
        "            'value': clean_text(value['value']),\n",
        "            'order': count\n",
        "        }\n",
        "        datas.append(data_dict)\n",
        "        count += 1\n",
        "\n",
        "  # Convert & Save dataframe\n",
        "  df = pd.DataFrame(datas)\n",
        "  filename = name\n",
        "  df.to_csv(os.path.join(TARGET_DIR, filename+'.csv'), index=False)\n",
        "  return df"
      ]
    },
    {
      "cell_type": "code",
      "execution_count": 9,
      "metadata": {
        "colab": {
          "base_uri": "https://localhost:8080/"
        },
        "id": "EKSx5Smho9Vh",
        "outputId": "9a67fafa-b7c9-474a-d01c-fd1ca47d8a00"
      },
      "outputs": [
        {
          "name": "stderr",
          "output_type": "stream",
          "text": [
            "100%|██████████| 665298/665298 [00:45<00:00, 14522.83it/s]\n"
          ]
        }
      ],
      "source": [
        "for path in file_list:\n",
        "  df = get_data(path)"
      ]
    },
    {
      "cell_type": "code",
      "execution_count": 11,
      "metadata": {
        "colab": {
          "base_uri": "https://localhost:8080/",
          "height": 441
        },
        "id": "B2gEIOFAsfIH",
        "outputId": "aa3ff6a2-ea50-422d-cf25-6a1cfcb6d777"
      },
      "outputs": [
        {
          "name": "stdout",
          "output_type": "stream",
          "text": [
            "6712322\n"
          ]
        },
        {
          "data": {
            "text/html": [
              "\n",
              "  <div id=\"df-04cbe3b8-207c-47d3-8529-8542568e3782\" class=\"colab-df-container\">\n",
              "    <div>\n",
              "<style scoped>\n",
              "    .dataframe tbody tr th:only-of-type {\n",
              "        vertical-align: middle;\n",
              "    }\n",
              "\n",
              "    .dataframe tbody tr th {\n",
              "        vertical-align: top;\n",
              "    }\n",
              "\n",
              "    .dataframe thead th {\n",
              "        text-align: right;\n",
              "    }\n",
              "</style>\n",
              "<table border=\"1\" class=\"dataframe\">\n",
              "  <thead>\n",
              "    <tr style=\"text-align: right;\">\n",
              "      <th></th>\n",
              "      <th>id</th>\n",
              "      <th>image</th>\n",
              "      <th>from</th>\n",
              "      <th>value</th>\n",
              "      <th>order</th>\n",
              "    </tr>\n",
              "  </thead>\n",
              "  <tbody>\n",
              "    <tr>\n",
              "      <th>0</th>\n",
              "      <td>000000033471</td>\n",
              "      <td>coco/train2017/000000033471.jpg</td>\n",
              "      <td>human</td>\n",
              "      <td>&lt;image&gt; What are the colors of the bus in the ...</td>\n",
              "      <td>0</td>\n",
              "    </tr>\n",
              "    <tr>\n",
              "      <th>1</th>\n",
              "      <td>000000033471</td>\n",
              "      <td>coco/train2017/000000033471.jpg</td>\n",
              "      <td>gpt</td>\n",
              "      <td>The bus in the image is white and red.</td>\n",
              "      <td>1</td>\n",
              "    </tr>\n",
              "    <tr>\n",
              "      <th>2</th>\n",
              "      <td>000000033471</td>\n",
              "      <td>coco/train2017/000000033471.jpg</td>\n",
              "      <td>human</td>\n",
              "      <td>What feature can be seen on the back of the bus?</td>\n",
              "      <td>2</td>\n",
              "    </tr>\n",
              "    <tr>\n",
              "      <th>3</th>\n",
              "      <td>000000033471</td>\n",
              "      <td>coco/train2017/000000033471.jpg</td>\n",
              "      <td>gpt</td>\n",
              "      <td>The back of the bus features an advertisement.</td>\n",
              "      <td>3</td>\n",
              "    </tr>\n",
              "    <tr>\n",
              "      <th>4</th>\n",
              "      <td>000000033471</td>\n",
              "      <td>coco/train2017/000000033471.jpg</td>\n",
              "      <td>human</td>\n",
              "      <td>Is the bus driving down the street or pulled o...</td>\n",
              "      <td>4</td>\n",
              "    </tr>\n",
              "    <tr>\n",
              "      <th>...</th>\n",
              "      <td>...</td>\n",
              "      <td>...</td>\n",
              "      <td>...</td>\n",
              "      <td>...</td>\n",
              "      <td>...</td>\n",
              "    </tr>\n",
              "    <tr>\n",
              "      <th>6712317</th>\n",
              "      <td>07c44727285d8060</td>\n",
              "      <td>textvqa/train_images/07c44727285d8060.jpg</td>\n",
              "      <td>gpt</td>\n",
              "      <td>The pages of opened book is arranged ina heart...</td>\n",
              "      <td>1</td>\n",
              "    </tr>\n",
              "    <tr>\n",
              "      <th>6712318</th>\n",
              "      <td>bd75fd0264fdaf5b</td>\n",
              "      <td>textvqa/train_images/bd75fd0264fdaf5b.jpg</td>\n",
              "      <td>human</td>\n",
              "      <td>&lt;image&gt; Provide a one-sentence caption for the...</td>\n",
              "      <td>0</td>\n",
              "    </tr>\n",
              "    <tr>\n",
              "      <th>6712319</th>\n",
              "      <td>bd75fd0264fdaf5b</td>\n",
              "      <td>textvqa/train_images/bd75fd0264fdaf5b.jpg</td>\n",
              "      <td>gpt</td>\n",
              "      <td>A sketch of a man in behind the counter in a b...</td>\n",
              "      <td>1</td>\n",
              "    </tr>\n",
              "    <tr>\n",
              "      <th>6712320</th>\n",
              "      <td>4508de4f680374a7</td>\n",
              "      <td>textvqa/train_images/4508de4f680374a7.jpg</td>\n",
              "      <td>human</td>\n",
              "      <td>&lt;image&gt; Provide a one-sentence caption for the...</td>\n",
              "      <td>0</td>\n",
              "    </tr>\n",
              "    <tr>\n",
              "      <th>6712321</th>\n",
              "      <td>4508de4f680374a7</td>\n",
              "      <td>textvqa/train_images/4508de4f680374a7.jpg</td>\n",
              "      <td>gpt</td>\n",
              "      <td>A picture of a fridge, with no discernible tex...</td>\n",
              "      <td>1</td>\n",
              "    </tr>\n",
              "  </tbody>\n",
              "</table>\n",
              "<p>6712322 rows × 5 columns</p>\n",
              "</div>\n",
              "    <div class=\"colab-df-buttons\">\n",
              "\n",
              "  <div class=\"colab-df-container\">\n",
              "    <button class=\"colab-df-convert\" onclick=\"convertToInteractive('df-04cbe3b8-207c-47d3-8529-8542568e3782')\"\n",
              "            title=\"Convert this dataframe to an interactive table.\"\n",
              "            style=\"display:none;\">\n",
              "\n",
              "  <svg xmlns=\"http://www.w3.org/2000/svg\" height=\"24px\" viewBox=\"0 -960 960 960\">\n",
              "    <path d=\"M120-120v-720h720v720H120Zm60-500h600v-160H180v160Zm220 220h160v-160H400v160Zm0 220h160v-160H400v160ZM180-400h160v-160H180v160Zm440 0h160v-160H620v160ZM180-180h160v-160H180v160Zm440 0h160v-160H620v160Z\"/>\n",
              "  </svg>\n",
              "    </button>\n",
              "\n",
              "  <style>\n",
              "    .colab-df-container {\n",
              "      display:flex;\n",
              "      gap: 12px;\n",
              "    }\n",
              "\n",
              "    .colab-df-convert {\n",
              "      background-color: #E8F0FE;\n",
              "      border: none;\n",
              "      border-radius: 50%;\n",
              "      cursor: pointer;\n",
              "      display: none;\n",
              "      fill: #1967D2;\n",
              "      height: 32px;\n",
              "      padding: 0 0 0 0;\n",
              "      width: 32px;\n",
              "    }\n",
              "\n",
              "    .colab-df-convert:hover {\n",
              "      background-color: #E2EBFA;\n",
              "      box-shadow: 0px 1px 2px rgba(60, 64, 67, 0.3), 0px 1px 3px 1px rgba(60, 64, 67, 0.15);\n",
              "      fill: #174EA6;\n",
              "    }\n",
              "\n",
              "    .colab-df-buttons div {\n",
              "      margin-bottom: 4px;\n",
              "    }\n",
              "\n",
              "    [theme=dark] .colab-df-convert {\n",
              "      background-color: #3B4455;\n",
              "      fill: #D2E3FC;\n",
              "    }\n",
              "\n",
              "    [theme=dark] .colab-df-convert:hover {\n",
              "      background-color: #434B5C;\n",
              "      box-shadow: 0px 1px 3px 1px rgba(0, 0, 0, 0.15);\n",
              "      filter: drop-shadow(0px 1px 2px rgba(0, 0, 0, 0.3));\n",
              "      fill: #FFFFFF;\n",
              "    }\n",
              "  </style>\n",
              "\n",
              "    <script>\n",
              "      const buttonEl =\n",
              "        document.querySelector('#df-04cbe3b8-207c-47d3-8529-8542568e3782 button.colab-df-convert');\n",
              "      buttonEl.style.display =\n",
              "        google.colab.kernel.accessAllowed ? 'block' : 'none';\n",
              "\n",
              "      async function convertToInteractive(key) {\n",
              "        const element = document.querySelector('#df-04cbe3b8-207c-47d3-8529-8542568e3782');\n",
              "        const dataTable =\n",
              "          await google.colab.kernel.invokeFunction('convertToInteractive',\n",
              "                                                    [key], {});\n",
              "        if (!dataTable) return;\n",
              "\n",
              "        const docLinkHtml = 'Like what you see? Visit the ' +\n",
              "          '<a target=\"_blank\" href=https://colab.research.google.com/notebooks/data_table.ipynb>data table notebook</a>'\n",
              "          + ' to learn more about interactive tables.';\n",
              "        element.innerHTML = '';\n",
              "        dataTable['output_type'] = 'display_data';\n",
              "        await google.colab.output.renderOutput(dataTable, element);\n",
              "        const docLink = document.createElement('div');\n",
              "        docLink.innerHTML = docLinkHtml;\n",
              "        element.appendChild(docLink);\n",
              "      }\n",
              "    </script>\n",
              "  </div>\n",
              "\n",
              "\n",
              "<div id=\"df-58049934-5561-43af-93a9-5b872400c0f2\">\n",
              "  <button class=\"colab-df-quickchart\" onclick=\"quickchart('df-58049934-5561-43af-93a9-5b872400c0f2')\"\n",
              "            title=\"Suggest charts\"\n",
              "            style=\"display:none;\">\n",
              "\n",
              "<svg xmlns=\"http://www.w3.org/2000/svg\" height=\"24px\"viewBox=\"0 0 24 24\"\n",
              "     width=\"24px\">\n",
              "    <g>\n",
              "        <path d=\"M19 3H5c-1.1 0-2 .9-2 2v14c0 1.1.9 2 2 2h14c1.1 0 2-.9 2-2V5c0-1.1-.9-2-2-2zM9 17H7v-7h2v7zm4 0h-2V7h2v10zm4 0h-2v-4h2v4z\"/>\n",
              "    </g>\n",
              "</svg>\n",
              "  </button>\n",
              "\n",
              "<style>\n",
              "  .colab-df-quickchart {\n",
              "      --bg-color: #E8F0FE;\n",
              "      --fill-color: #1967D2;\n",
              "      --hover-bg-color: #E2EBFA;\n",
              "      --hover-fill-color: #174EA6;\n",
              "      --disabled-fill-color: #AAA;\n",
              "      --disabled-bg-color: #DDD;\n",
              "  }\n",
              "\n",
              "  [theme=dark] .colab-df-quickchart {\n",
              "      --bg-color: #3B4455;\n",
              "      --fill-color: #D2E3FC;\n",
              "      --hover-bg-color: #434B5C;\n",
              "      --hover-fill-color: #FFFFFF;\n",
              "      --disabled-bg-color: #3B4455;\n",
              "      --disabled-fill-color: #666;\n",
              "  }\n",
              "\n",
              "  .colab-df-quickchart {\n",
              "    background-color: var(--bg-color);\n",
              "    border: none;\n",
              "    border-radius: 50%;\n",
              "    cursor: pointer;\n",
              "    display: none;\n",
              "    fill: var(--fill-color);\n",
              "    height: 32px;\n",
              "    padding: 0;\n",
              "    width: 32px;\n",
              "  }\n",
              "\n",
              "  .colab-df-quickchart:hover {\n",
              "    background-color: var(--hover-bg-color);\n",
              "    box-shadow: 0 1px 2px rgba(60, 64, 67, 0.3), 0 1px 3px 1px rgba(60, 64, 67, 0.15);\n",
              "    fill: var(--button-hover-fill-color);\n",
              "  }\n",
              "\n",
              "  .colab-df-quickchart-complete:disabled,\n",
              "  .colab-df-quickchart-complete:disabled:hover {\n",
              "    background-color: var(--disabled-bg-color);\n",
              "    fill: var(--disabled-fill-color);\n",
              "    box-shadow: none;\n",
              "  }\n",
              "\n",
              "  .colab-df-spinner {\n",
              "    border: 2px solid var(--fill-color);\n",
              "    border-color: transparent;\n",
              "    border-bottom-color: var(--fill-color);\n",
              "    animation:\n",
              "      spin 1s steps(1) infinite;\n",
              "  }\n",
              "\n",
              "  @keyframes spin {\n",
              "    0% {\n",
              "      border-color: transparent;\n",
              "      border-bottom-color: var(--fill-color);\n",
              "      border-left-color: var(--fill-color);\n",
              "    }\n",
              "    20% {\n",
              "      border-color: transparent;\n",
              "      border-left-color: var(--fill-color);\n",
              "      border-top-color: var(--fill-color);\n",
              "    }\n",
              "    30% {\n",
              "      border-color: transparent;\n",
              "      border-left-color: var(--fill-color);\n",
              "      border-top-color: var(--fill-color);\n",
              "      border-right-color: var(--fill-color);\n",
              "    }\n",
              "    40% {\n",
              "      border-color: transparent;\n",
              "      border-right-color: var(--fill-color);\n",
              "      border-top-color: var(--fill-color);\n",
              "    }\n",
              "    60% {\n",
              "      border-color: transparent;\n",
              "      border-right-color: var(--fill-color);\n",
              "    }\n",
              "    80% {\n",
              "      border-color: transparent;\n",
              "      border-right-color: var(--fill-color);\n",
              "      border-bottom-color: var(--fill-color);\n",
              "    }\n",
              "    90% {\n",
              "      border-color: transparent;\n",
              "      border-bottom-color: var(--fill-color);\n",
              "    }\n",
              "  }\n",
              "</style>\n",
              "\n",
              "  <script>\n",
              "    async function quickchart(key) {\n",
              "      const quickchartButtonEl =\n",
              "        document.querySelector('#' + key + ' button');\n",
              "      quickchartButtonEl.disabled = true;  // To prevent multiple clicks.\n",
              "      quickchartButtonEl.classList.add('colab-df-spinner');\n",
              "      try {\n",
              "        const charts = await google.colab.kernel.invokeFunction(\n",
              "            'suggestCharts', [key], {});\n",
              "      } catch (error) {\n",
              "        console.error('Error during call to suggestCharts:', error);\n",
              "      }\n",
              "      quickchartButtonEl.classList.remove('colab-df-spinner');\n",
              "      quickchartButtonEl.classList.add('colab-df-quickchart-complete');\n",
              "    }\n",
              "    (() => {\n",
              "      let quickchartButtonEl =\n",
              "        document.querySelector('#df-58049934-5561-43af-93a9-5b872400c0f2 button');\n",
              "      quickchartButtonEl.style.display =\n",
              "        google.colab.kernel.accessAllowed ? 'block' : 'none';\n",
              "    })();\n",
              "  </script>\n",
              "</div>\n",
              "    </div>\n",
              "  </div>\n"
            ],
            "text/plain": [
              "                       id                                      image   from  \\\n",
              "0            000000033471            coco/train2017/000000033471.jpg  human   \n",
              "1            000000033471            coco/train2017/000000033471.jpg    gpt   \n",
              "2            000000033471            coco/train2017/000000033471.jpg  human   \n",
              "3            000000033471            coco/train2017/000000033471.jpg    gpt   \n",
              "4            000000033471            coco/train2017/000000033471.jpg  human   \n",
              "...                   ...                                        ...    ...   \n",
              "6712317  07c44727285d8060  textvqa/train_images/07c44727285d8060.jpg    gpt   \n",
              "6712318  bd75fd0264fdaf5b  textvqa/train_images/bd75fd0264fdaf5b.jpg  human   \n",
              "6712319  bd75fd0264fdaf5b  textvqa/train_images/bd75fd0264fdaf5b.jpg    gpt   \n",
              "6712320  4508de4f680374a7  textvqa/train_images/4508de4f680374a7.jpg  human   \n",
              "6712321  4508de4f680374a7  textvqa/train_images/4508de4f680374a7.jpg    gpt   \n",
              "\n",
              "                                                     value  order  \n",
              "0        <image> What are the colors of the bus in the ...      0  \n",
              "1                   The bus in the image is white and red.      1  \n",
              "2         What feature can be seen on the back of the bus?      2  \n",
              "3           The back of the bus features an advertisement.      3  \n",
              "4        Is the bus driving down the street or pulled o...      4  \n",
              "...                                                    ...    ...  \n",
              "6712317  The pages of opened book is arranged ina heart...      1  \n",
              "6712318  <image> Provide a one-sentence caption for the...      0  \n",
              "6712319  A sketch of a man in behind the counter in a b...      1  \n",
              "6712320  <image> Provide a one-sentence caption for the...      0  \n",
              "6712321  A picture of a fridge, with no discernible tex...      1  \n",
              "\n",
              "[6712322 rows x 5 columns]"
            ]
          },
          "execution_count": 11,
          "metadata": {},
          "output_type": "execute_result"
        }
      ],
      "source": [
        "print(len(df))\n",
        "df"
      ]
    },
    {
      "cell_type": "markdown",
      "metadata": {},
      "source": [
        "## Split dataframe\n",
        "- Separate entire dataframe into 10k rows per file in `.xlsx` format"
      ]
    },
    {
      "cell_type": "code",
      "execution_count": null,
      "metadata": {},
      "outputs": [],
      "source": [
        "import os\n",
        "\n",
        "DATA_DIR = './data/'\n",
        "SPLIT_DIR = './split_data/'\n",
        "RESULT_DIR = './result/'\n",
        "TRANS_DIR = './trans_data/'"
      ]
    },
    {
      "cell_type": "markdown",
      "metadata": {},
      "source": [
        "## Split dataframe\n",
        "- Separate them into 10k rows per file in `.xlsx` format"
      ]
    },
    {
      "cell_type": "code",
      "execution_count": null,
      "metadata": {},
      "outputs": [],
      "source": [
        "import pandas as pd\n",
        "from glob import glob\n",
        "from tqdm import tqdm\n",
        "from joblib import Parallel, delayed\n",
        "import os\n",
        "\n",
        "# Get all file location\n",
        "file_list = glob(os.path.join(DATA_DIR, '*'))\n",
        "\n",
        "def split_file(path, sub_length=10000):\n",
        "    name = path.split('/')[-1].split('.')[0]\n",
        "\n",
        "    df = pd.read_csv(path)\n",
        "    df['value'] = df['value'].astype('str')\n",
        "    df['value'] = df['value'].apply(lambda text: text.encode('unicode_escape').decode('utf-8')) # Remove unreadable character\n",
        "    length = len(df)\n",
        "    num_files = length // sub_length\n",
        "    for i in tqdm(range(num_files)):\n",
        "        sub_df = pd.DataFrame(df.loc[i*sub_length:(i+1)*sub_length-1, 'value'])\n",
        "        sub_df.to_excel(os.path.join(SPLIT_DIR, f'{name}-{i}.xlsx'), index=False)\n",
        "    if length%sub_length != 0:\n",
        "        sub_df = pd.DataFrame(df.loc[num_files*sub_length:, 'value'])\n",
        "        sub_df.to_excel(os.path.join(SPLIT_DIR, f'{name}-{num_files}.xlsx'), index=False)"
      ]
    },
    {
      "cell_type": "code",
      "execution_count": null,
      "metadata": {},
      "outputs": [
        {
          "name": "stderr",
          "output_type": "stream",
          "text": [
            "100%|██████████| 5/5 [00:55<00:00, 11.16s/it]\n"
          ]
        }
      ],
      "source": [
        "for path in tqdm(file_list):\n",
        "    split_file(path)"
      ]
    },
    {
      "cell_type": "code",
      "execution_count": null,
      "metadata": {},
      "outputs": [
        {
          "data": {
            "text/plain": [
              "191"
            ]
          },
          "metadata": {},
          "output_type": "display_data"
        }
      ],
      "source": [
        "# Check number of separated files\n",
        "len(glob(os.path.join(SPLIT_DIR, '*')))"
      ]
    },
    {
      "cell_type": "markdown",
      "metadata": {},
      "source": [
        "## 3. Translate data\n",
        "- Upload each `.xlsx` files into google translate web UI https://translate.google.co.th/?hl=th&sl=auto&tl=th&op=docs"
      ]
    },
    {
      "cell_type": "markdown",
      "metadata": {},
      "source": [
        "## 4. Combine data\n",
        "Combine all splitted data and join them with the raw dataframe"
      ]
    },
    {
      "cell_type": "code",
      "execution_count": null,
      "metadata": {},
      "outputs": [],
      "source": [
        "import re\n",
        "\n",
        "def sort_by_number(text):\n",
        "    number = text.split('-')[-1].split('.')[0]\n",
        "    return int(number)\n",
        "\n",
        "def combine_df(path):\n",
        "    name = path.split('/')[-1].split('.')[0]\n",
        "    trans_list = glob(os.path.join(TRANS_DIR, name+'*'))\n",
        "    trans_list = sorted(trans_list, key=sort_by_number)\n",
        "    raw_df = pd.read_csv(path)\n",
        "    trans_data = []\n",
        "    for i, trans_path in enumerate(tqdm(trans_list)):\n",
        "        df = pd.read_excel(trans_path)\n",
        "        trans_data.append(df)\n",
        "\n",
        "    trans_df = pd.concat(trans_data, ignore_index=False).reset_index(drop=True)\n",
        "    trans_df.rename(columns={'ค่า': 'translate_value'}, inplace=True)\n",
        "\n",
        "    combine_df = pd.concat([raw_df, trans_df], axis=1)\n",
        "    print(f'Finish {name}: {len(combine_df)} rows')\n",
        "    combine_df.to_csv(os.path.join(RESULT_DIR, name+'.csv'), index=False)"
      ]
    },
    {
      "cell_type": "code",
      "execution_count": null,
      "metadata": {},
      "outputs": [],
      "source": [
        "file_list = glob(os.path.join(DATA_DIR, '*'))\n",
        "for path in tqdm(file_list):\n",
        "    combine_df(path)"
      ]
    }
  ],
  "metadata": {
    "colab": {
      "provenance": []
    },
    "kernelspec": {
      "display_name": "Python 3",
      "name": "python3"
    },
    "language_info": {
      "name": "python"
    }
  },
  "nbformat": 4,
  "nbformat_minor": 0
}
